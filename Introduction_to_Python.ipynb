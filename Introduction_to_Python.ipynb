{
  "nbformat": 4,
  "nbformat_minor": 0,
  "metadata": {
    "colab": {
      "name": "Introduction to Python.ipynb",
      "provenance": [],
      "authorship_tag": "ABX9TyO+0QhWShLALXq5/bgbyDee",
      "include_colab_link": true
    },
    "kernelspec": {
      "name": "python3",
      "display_name": "Python 3"
    },
    "language_info": {
      "name": "python"
    }
  },
  "cells": [
    {
      "cell_type": "markdown",
      "metadata": {
        "id": "view-in-github",
        "colab_type": "text"
      },
      "source": [
        "<a href=\"https://colab.research.google.com/github/M4itreya/Elective-1-2/blob/main/Introduction_to_Python.ipynb\" target=\"_parent\"><img src=\"https://colab.research.google.com/assets/colab-badge.svg\" alt=\"Open In Colab\"/></a>"
      ]
    },
    {
      "cell_type": "markdown",
      "source": [
        "#Python Indentation"
      ],
      "metadata": {
        "id": "b7ld_wzdUBQT"
      }
    },
    {
      "cell_type": "code",
      "source": [
        "if 5>2:\n",
        "  print(\"Five is greater than two\")\n",
        "else:\n",
        "    print(\"Two is less than five\")"
      ],
      "metadata": {
        "id": "59JKM0EDYTik"
      },
      "execution_count": null,
      "outputs": []
    },
    {
      "cell_type": "code",
      "execution_count": null,
      "metadata": {
        "colab": {
          "base_uri": "https://localhost:8080/"
        },
        "id": "IJjSbRJvTijG",
        "outputId": "38730ccf-3db1-4887-d23f-5ad13e43fe34"
      },
      "outputs": [
        {
          "output_type": "stream",
          "name": "stdout",
          "text": [
            "Two is less than five\n"
          ]
        }
      ],
      "source": [
        "if 2>5: #A comparison for the numbers 2 and 5\n",
        "  print(\"Five is greater than two\")\n",
        "else:\n",
        "    print(\"Two is less than five\")\n"
      ]
    },
    {
      "cell_type": "code",
      "source": [
        "x = 'Stella'\n",
        "y = -4.56\n",
        "\n",
        "print(x)\n",
        "print(y)\n"
      ],
      "metadata": {
        "colab": {
          "base_uri": "https://localhost:8080/"
        },
        "id": "KIupdhueYZ-d",
        "outputId": "72679558-c146-4e74-e19c-7b28e17e0d84"
      },
      "execution_count": null,
      "outputs": [
        {
          "output_type": "stream",
          "name": "stdout",
          "text": [
            "Stella\n",
            "-4.56\n"
          ]
        }
      ]
    },
    {
      "cell_type": "code",
      "source": [
        "x = 'Stella'\n",
        "y = -4.56\n",
        "\n",
        "print(type(x))\n",
        "print(type(y))\n"
      ],
      "metadata": {
        "colab": {
          "base_uri": "https://localhost:8080/"
        },
        "id": "KG8D_VaXYtbp",
        "outputId": "be0f34b4-fc51-44cc-a9dc-8096f6e182f2"
      },
      "execution_count": null,
      "outputs": [
        {
          "output_type": "stream",
          "name": "stdout",
          "text": [
            "<class 'str'>\n",
            "<class 'float'>\n"
          ]
        }
      ]
    }
  ]
}